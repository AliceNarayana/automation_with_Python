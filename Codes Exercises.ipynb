{
 "cells": [
  {
   "cell_type": "markdown",
   "id": "cacf1e65",
   "metadata": {},
   "source": [
    "# Coding Exercise in Python"
   ]
  },
  {
   "cell_type": "markdown",
   "id": "4e016f94",
   "metadata": {},
   "source": [
    "> # Writing Functions"
   ]
  },
  {
   "cell_type": "markdown",
   "id": "d6ade503",
   "metadata": {},
   "source": [
    "- def = key word to indicate I want to create a function\n",
    "- say_hello = the name of my function\n",
    "- ( ) = Where the parameter will be stored\n",
    "- : = the end of our header"
   ]
  },
  {
   "cell_type": "code",
   "execution_count": 12,
   "id": "1c589203",
   "metadata": {},
   "outputs": [
    {
     "name": "stdout",
     "output_type": "stream",
     "text": [
      "Say Hello\n"
     ]
    }
   ],
   "source": [
    "def say_hello():\n",
    "    print(\"Say Hello\")\n",
    "\n",
    "say_hello()\n",
    "    "
   ]
  },
  {
   "cell_type": "markdown",
   "id": "0e397d59",
   "metadata": {},
   "source": [
    "### Functions with Parameters and Arguments"
   ]
  },
  {
   "cell_type": "code",
   "execution_count": 15,
   "id": "bed5c7cc",
   "metadata": {},
   "outputs": [
    {
     "name": "stdout",
     "output_type": "stream",
     "text": [
      "5 X 10 = 50\n",
      "15 X 2 = 30\n"
     ]
    }
   ],
   "source": [
    "def multiply_numbers(number1,number2):\n",
    "    answer = number1 * number2\n",
    "    print(number1,\"X\",number2,\"=\",answer)\n",
    "multiply_numbers(5,10)\n",
    "multiply_numbers(15,2)"
   ]
  },
  {
   "cell_type": "code",
   "execution_count": 22,
   "id": "02bef48d",
   "metadata": {},
   "outputs": [
    {
     "name": "stdout",
     "output_type": "stream",
     "text": [
      "Full name is: Alice Santos\n",
      "Full name is: Tom Richard\n"
     ]
    }
   ],
   "source": [
    "def add_name(first,last): #function name os add_name\n",
    "    full_name = first+\" \"+last #declare variable as full_name with multiple values first and last\n",
    "    print(\"Full name is:\",full_name) #print a statement to the console\n",
    "add_name(\"Alice\", \"Santos\") #call our add_name function and we specify the arguments \"Alice\" and \"Santos\"\n",
    "add_name(\"Tom\", \"Richard\")"
   ]
  },
  {
   "cell_type": "code",
   "execution_count": 25,
   "id": "a1193fd4",
   "metadata": {},
   "outputs": [
    {
     "name": "stdout",
     "output_type": "stream",
     "text": [
      "Name: Alex Hammond\n",
      "Email: alex.hammond@gmail.com\n"
     ]
    }
   ],
   "source": [
    "#Function with Keyword Arguments\n",
    "def print_info(name,email): #declaring a function that accept two parameters: name and email\n",
    "    print(\"Name:\",name)#print the console \"Name\", followed by the value name\n",
    "    print(\"Email:\",email)#print the console \"email\", fallowed by the value email\n",
    "\n",
    "print_info(email = \"alex.hammond@gmail.com\", name=\"Alex Hammond\") #call function and specify two arguments"
   ]
  },
  {
   "cell_type": "code",
   "execution_count": 27,
   "id": "2bdbb774",
   "metadata": {},
   "outputs": [
    {
     "name": "stdout",
     "output_type": "stream",
     "text": [
      "Name: Alex Hammond\n",
      "Email: default@gmail.com\n"
     ]
    }
   ],
   "source": [
    "#function with Default Argument Values\n",
    "def print_info(name, email = \"default@gmail.com\"):\n",
    "    print(\"Name:\", name)\n",
    "    print(\"Email:\", email)\n",
    "    \n",
    "print_info(\"Alex Hammond\")"
   ]
  },
  {
   "cell_type": "code",
   "execution_count": 29,
   "id": "7d3783f2",
   "metadata": {},
   "outputs": [
    {
     "name": "stdout",
     "output_type": "stream",
     "text": [
      "30\n"
     ]
    }
   ],
   "source": [
    "# Returning Values to the Main Program. \n",
    "# Return statement existe a function and allows you to pass a value back to the main program\n",
    "def multiply_numbers(number1, number2):\n",
    "    answer = number1 * number2\n",
    "    return answer\n",
    "\n",
    "ans = multiply_numbers(5,6)\n",
    "print(ans)\n"
   ]
  },
  {
   "cell_type": "markdown",
   "id": "2a5240b6",
   "metadata": {},
   "source": [
    "## Algorithm to Python Interview"
   ]
  },
  {
   "cell_type": "markdown",
   "id": "00bf8aa4",
   "metadata": {},
   "source": [
    "### Reverse Integer"
   ]
  },
  {
   "cell_type": "code",
   "execution_count": 40,
   "id": "cae4d6f6",
   "metadata": {},
   "outputs": [
    {
     "name": "stdout",
     "output_type": "stream",
     "text": [
      "-132\n",
      "543\n"
     ]
    }
   ],
   "source": [
    "#Given an integer, return the integer with reversed digits. The integer could be either positive or negative\n",
    "def solution(x):\n",
    "    string = str(x)\n",
    "    \n",
    "    if string[0] == \"-\":\n",
    "        return int('-' + string[:0:-1])\n",
    "    else:\n",
    "        return int(string[::-1]) #reverse sequence\n",
    "\n",
    "print(solution(-231))\n",
    "print(solution(345))"
   ]
  },
  {
   "cell_type": "markdown",
   "id": "95e5c354",
   "metadata": {},
   "source": [
    "- A function of the (:) colon is slice a string."
   ]
  },
  {
   "cell_type": "code",
   "execution_count": 6,
   "id": "99f11156",
   "metadata": {},
   "outputs": [
    {
     "name": "stdout",
     "output_type": "stream",
     "text": [
      "kPytho\n"
     ]
    }
   ],
   "source": [
    "a = \"AskPython\"\n",
    "print(a[2:8])"
   ]
  },
  {
   "cell_type": "markdown",
   "id": "d7357861",
   "metadata": {},
   "source": [
    "### Average Words Length"
   ]
  },
  {
   "cell_type": "code",
   "execution_count": 57,
   "id": "6c71faa6",
   "metadata": {},
   "outputs": [
    {
     "name": "stdout",
     "output_type": "stream",
     "text": [
      "3.82\n",
      "4.08\n"
     ]
    }
   ],
   "source": [
    "# for the given sentence, return the average word lenght\n",
    "\n",
    "sentence1 = \"Hi all, my name is Tom...I am originally from Australia.\"\n",
    "sentence2 = \"I need to work very hard to learn more about algorithms in Python!\"\n",
    "\n",
    "def solution(sentence):\n",
    "    for p in \"!?',:.\":\n",
    "        sentence = sentence.replace(p, \" \")\n",
    "        words = sentence.split()\n",
    "    return round(sum(len(word) for word in words) /len(words),2) #rounds() round a number and len() Returns the length of an object\n",
    "\n",
    "print(solution(sentence1))\n",
    "print(solution(sentence2))"
   ]
  },
  {
   "cell_type": "code",
   "execution_count": 46,
   "id": "35354acc",
   "metadata": {},
   "outputs": [
    {
     "name": "stdout",
     "output_type": "stream",
     "text": [
      "['This', 'is', 'a', 'test']\n"
     ]
    }
   ],
   "source": [
    "# Split Functions \n",
    "str = \"This is a test\"\n",
    "print(str.split())"
   ]
  },
  {
   "cell_type": "code",
   "execution_count": 48,
   "id": "f123babc",
   "metadata": {},
   "outputs": [
    {
     "data": {
      "text/plain": [
       "'This is a test'"
      ]
     },
     "execution_count": 48,
     "metadata": {},
     "output_type": "execute_result"
    }
   ],
   "source": [
    "#Join Function\n",
    "list = ['This', 'is', 'a', 'test']\n",
    "' '.join(list)"
   ]
  },
  {
   "cell_type": "markdown",
   "id": "c30878f9",
   "metadata": {},
   "source": [
    "### Add String"
   ]
  },
  {
   "cell_type": "code",
   "execution_count": 51,
   "id": "1cacd0ea",
   "metadata": {},
   "outputs": [
    {
     "name": "stdout",
     "output_type": "stream",
     "text": [
      "2200\n"
     ]
    }
   ],
   "source": [
    "# Given two non - negative integers num1 and num2 represented as string, return the sum of num1 and num2.\n",
    "#Notes:\n",
    "#Both num1 and num2 contains only digits 0-9.\n",
    "#Both num1 and num2 does not contain any leading zero.\n",
    "\n",
    "num1 = '364'\n",
    "num2 = '1836'\n",
    "\n",
    "def solution(num1,num2):\n",
    "    eval(num1) + eval(num2) #eval() : Evaluates and executes an expression. Dinamically evaluate string-based inputs\n",
    "    return (eval(num1) + eval(num2))\n",
    "\n",
    "print(solution(num1,num2))"
   ]
  },
  {
   "cell_type": "markdown",
   "id": "086e8851",
   "metadata": {},
   "source": [
    "### First Unique Character"
   ]
  },
  {
   "cell_type": "code",
   "execution_count": 67,
   "id": "e6776837",
   "metadata": {},
   "outputs": [
    {
     "name": "stdout",
     "output_type": "stream",
     "text": [
      "1\n",
      "2\n",
      "1\n",
      "###\n"
     ]
    }
   ],
   "source": [
    "# Given a string, find the first non - repeating character in it and return its index.\n",
    "# If it dosent exist, return -1. All input strings are lowercase \n",
    "\n",
    "def solution(s):\n",
    "    frequency = {} #empty dictionary\n",
    "    for i in s:\n",
    "        if i not in frequency:\n",
    "            frequency[i] = 1\n",
    "        else:\n",
    "            frequency[i] +=1\n",
    "    for i in range(len(s)):\n",
    "        if frequency [s[i]] == 1:\n",
    "            return i\n",
    "    return -1\n",
    "\n",
    "print(solution('alphabet'))\n",
    "print(solution('barbados'))\n",
    "print(solution('crunchy'))\n",
    "\n",
    "print('###')"
   ]
  },
  {
   "cell_type": "markdown",
   "id": "0712a41a",
   "metadata": {},
   "source": [
    "## Valid Palindrome"
   ]
  },
  {
   "cell_type": "code",
   "execution_count": 5,
   "id": "35ab4811",
   "metadata": {},
   "outputs": [
    {
     "data": {
      "text/plain": [
       "True"
      ]
     },
     "execution_count": 5,
     "metadata": {},
     "output_type": "execute_result"
    }
   ],
   "source": [
    "#Given a non-empty string s, you may delete at most one character. Judge whether you can make it a palindrome.\n",
    "#The string will only contain lowercase character a-z\n",
    "\n",
    "s = 'radkar'\n",
    "def solution (s):\n",
    "    for i in range (len(s)):\n",
    "        t = s[:i] + s[i+1:]\n",
    "        if t == t[::-1]: return True\n",
    "    return s == s[::-1]\n",
    "\n",
    "solution(s)\n",
    "\n"
   ]
  },
  {
   "cell_type": "markdown",
   "id": "f274e5ca",
   "metadata": {},
   "source": [
    "## Monotonic Array"
   ]
  },
  {
   "cell_type": "code",
   "execution_count": 8,
   "id": "fde358a8",
   "metadata": {},
   "outputs": [
    {
     "name": "stdout",
     "output_type": "stream",
     "text": [
      "True\n",
      "False\n",
      "True\n"
     ]
    }
   ],
   "source": [
    "# Monotonic array if is the array is monotone increasing or decreasing\n",
    "A = [6,5,4,4]\n",
    "B = [1,1,1,3,3,4,3,2,4,2]\n",
    "C = [1,1,2,3,7]\n",
    "\n",
    "def solution(nums):\n",
    "    return (all(nums[i] <= nums[i + 1] for i in range (len(nums) -1)) or\n",
    "            all(nums[i] >= nums[i + 1] for i in range (len(nums) -1))) \n",
    "\n",
    "print(solution(A))\n",
    "print(solution(B))\n",
    "print(solution(C))"
   ]
  },
  {
   "cell_type": "markdown",
   "id": "fdddf2c0",
   "metadata": {},
   "source": [
    "## Move Zeroes"
   ]
  },
  {
   "cell_type": "code",
   "execution_count": 13,
   "id": "5b232407",
   "metadata": {
    "scrolled": true
   },
   "outputs": [
    {
     "name": "stdout",
     "output_type": "stream",
     "text": [
      "[1, 3, 12, 0, 0]\n",
      "[1, 7, 8, 10, 12, 4, 0, 0, 0, 0]\n"
     ]
    }
   ],
   "source": [
    "array1 = [0,1,0,3,12]\n",
    "array2 = [1,7,0,0,8,0,10,12,0,4]\n",
    "\n",
    "def solution(nums):\n",
    "    for i in nums:\n",
    "        if 0 in nums:\n",
    "            nums.remove(0)\n",
    "            nums.append(0)\n",
    "            \n",
    "    return nums\n",
    "\n",
    "print(solution(array1))\n",
    "print(solution(array2))"
   ]
  },
  {
   "cell_type": "markdown",
   "id": "456776a5",
   "metadata": {},
   "source": [
    "## Fill the Blanks"
   ]
  },
  {
   "cell_type": "code",
   "execution_count": 16,
   "id": "93117cc3",
   "metadata": {},
   "outputs": [
    {
     "data": {
      "text/plain": [
       "[1, 1, 2, 3, 3, 3, 5, 5]"
      ]
     },
     "execution_count": 16,
     "metadata": {},
     "output_type": "execute_result"
    }
   ],
   "source": [
    "## Given an array containing None values fill in the None Values with most recent\n",
    "#non NONE value in the array\n",
    "array = [1, None, 2, 3, None, None, 5, None]\n",
    "\n",
    "def solution(array):\n",
    "    valid = 0\n",
    "    res = []\n",
    "    for i in array:\n",
    "        if i is not None:\n",
    "            res.append(i)\n",
    "            valid = i\n",
    "        else: \n",
    "            res.append(valid)\n",
    "    return res\n",
    "\n",
    "solution(array)"
   ]
  },
  {
   "cell_type": "markdown",
   "id": "5547c924",
   "metadata": {},
   "source": [
    "## Matched and Mismatched Words"
   ]
  },
  {
   "cell_type": "code",
   "execution_count": 36,
   "id": "0c23249e",
   "metadata": {},
   "outputs": [
    {
     "name": "stdout",
     "output_type": "stream",
     "text": [
      "(['The', 'We', 'a', 'are', 'by', 'heavy', 'hit', 'in', 'meet', 'our', 'pleased', 'storm', 'to', 'was', 'you'], ['city', 'really'])\n"
     ]
    }
   ],
   "source": [
    "#Given two sentences, return an array that has the words that appear in one sentence and not\n",
    "#the other and an array with the words in commmon.\n",
    "\n",
    "sentence1 = 'We are really pleased to meet you in our city'\n",
    "sentence2 = 'The city was hit by a really heavy storm'\n",
    "\n",
    "def solution(sentence1, sentence2):\n",
    "    set1 = set(sentence1.split()) #function creates a set object.\n",
    "    set2 = set(sentence2.split())\n",
    "    \n",
    "    return sorted(list(set1^set2)), sorted(list(set1&set2)) # This hat ^ is symmetric_difference. The & is intersection\n",
    "\n",
    "print(solution(sentence1, sentence2))"
   ]
  },
  {
   "cell_type": "markdown",
   "id": "36b43084",
   "metadata": {},
   "source": [
    "## Prime Numbers Array"
   ]
  },
  {
   "cell_type": "code",
   "execution_count": 40,
   "id": "6383eefc",
   "metadata": {},
   "outputs": [
    {
     "data": {
      "text/plain": [
       "[2, 3, 5, 7, 11, 13, 17, 19, 23, 29, 31]"
      ]
     },
     "execution_count": 40,
     "metadata": {},
     "output_type": "execute_result"
    }
   ],
   "source": [
    "# Given k numbers which are less than n, return the set of prime number among them\n",
    "# Note: The task is to write a program to print all Prime numbers in an Interval.\n",
    "# Definition: A prime number is a natural number greater than 1 that has no positive divisors other than 1 and itself. \n",
    "\n",
    "n = 35\n",
    "\n",
    "def solution (n):\n",
    "    prime_nums = []\n",
    "    for num in range (n):\n",
    "        if num > 1: #all prime numbers are greater than 1\n",
    "            for i in range (2, num):\n",
    "                if (num % i) == 0: # if the modulis is ==0 means the number can be divided by a number precesing it\n",
    "                    break \n",
    "            else:\n",
    "                prime_nums.append(num)\n",
    "                \n",
    "    return prime_nums\n",
    "\n",
    "solution(n)"
   ]
  },
  {
   "cell_type": "markdown",
   "id": "bc83a89b",
   "metadata": {},
   "source": [
    "### Function Say Hello with For Loop"
   ]
  },
  {
   "cell_type": "code",
   "execution_count": 75,
   "id": "f3b73ad4",
   "metadata": {
    "scrolled": true
   },
   "outputs": [
    {
     "name": "stdout",
     "output_type": "stream",
     "text": [
      "Hello, world!\n",
      "Hello, world!\n",
      "Hello, world!\n",
      "Hello, world!\n",
      "Hello, world!\n"
     ]
    }
   ],
   "source": [
    "def say_hello(): #def function and function name\n",
    "    for i in range(5):\n",
    "        print('Hello, world!')\n",
    "\n",
    "say_hello() #call function"
   ]
  },
  {
   "cell_type": "markdown",
   "id": "1a9af12b",
   "metadata": {},
   "source": [
    "### Finding Missing Numbers in array"
   ]
  },
  {
   "cell_type": "code",
   "execution_count": 2,
   "id": "e6826d44",
   "metadata": {},
   "outputs": [
    {
     "name": "stdout",
     "output_type": "stream",
     "text": [
      "[3, 5, 8]\n"
     ]
    }
   ],
   "source": [
    "# Python3 program to Find missing integers in list\n",
    "          \n",
    "def find_missing(lst):\n",
    "    return [x for x in range(lst[0], lst[-1]+1) \n",
    "                               if x not in lst]\n",
    "  \n",
    "# Driver code\n",
    "lst = [1, 2, 4, 6, 7, 9, 10]\n",
    "print(find_missing(lst))"
   ]
  },
  {
   "cell_type": "markdown",
   "id": "55d7bde2",
   "metadata": {},
   "source": [
    "### Findind Duplicates in the array"
   ]
  },
  {
   "cell_type": "code",
   "execution_count": 2,
   "id": "41fff175",
   "metadata": {},
   "outputs": [
    {
     "name": "stdout",
     "output_type": "stream",
     "text": [
      "4\n",
      "-1\n",
      "1\n"
     ]
    }
   ],
   "source": [
    "def find_first_duplicate(nums):\n",
    "    num_set = set()\n",
    "    no_duplicate = -1\n",
    "\n",
    "    for i in range(len(nums)):\n",
    "\n",
    "        if nums[i] in num_set:\n",
    "            return nums[i]\n",
    "        else:\n",
    "            num_set.add(nums[i])\n",
    "\n",
    "    return no_duplicate\n",
    "\n",
    "print(find_first_duplicate([1, 2, 3, 4, 4, 5]))\n",
    "print(find_first_duplicate([1, 2, 3, 4]))\n",
    "print(find_first_duplicate([1, 1, 2, 3, 3, 2, 2]))"
   ]
  },
  {
   "cell_type": "code",
   "execution_count": 8,
   "id": "a12be1c7",
   "metadata": {},
   "outputs": [
    {
     "name": "stdout",
     "output_type": "stream",
     "text": [
      "12 11 5 \n",
      "\n"
     ]
    }
   ],
   "source": [
    "# Python3 program to find duplicates using dictionary approach.\n",
    "def printDuplicates(arr):\n",
    "\tdict = {}\n",
    "\n",
    "\tfor ele in arr:\n",
    "\t\ttry:\n",
    "\t\t\tdict[ele] += 1\n",
    "\t\texcept:\n",
    "\t\t\tdict[ele] = 1\n",
    "\t\t\t\n",
    "\tfor item in dict:\n",
    "\t\t\n",
    "\t\t# if frequency is more than 1 print the element\n",
    "\t\tif(dict[item] > 1):\n",
    "\t\t\tprint(item, end=\" \")\n",
    "\n",
    "\tprint(\"\\n\")\n",
    "\n",
    "# Driver Code\n",
    "if __name__ == \"__main__\":\n",
    "\tlist = [12, 11, 40, 12,\n",
    "\t\t\t5, 6, 5, 12, 11]\n",
    "\tprintDuplicates(list)\n",
    "\n"
   ]
  },
  {
   "cell_type": "markdown",
   "id": "ce906856",
   "metadata": {},
   "source": [
    "## Reverse Sequence"
   ]
  },
  {
   "cell_type": "code",
   "execution_count": 4,
   "id": "f4b3ab06",
   "metadata": {},
   "outputs": [
    {
     "data": {
      "text/plain": [
       "(5, 4, 3, 2, 1)"
      ]
     },
     "execution_count": 4,
     "metadata": {},
     "output_type": "execute_result"
    }
   ],
   "source": [
    "a = (1, 2, 3, 4, 5)\n",
    "a[::-1]"
   ]
  },
  {
   "cell_type": "code",
   "execution_count": 5,
   "id": "c0984aa9",
   "metadata": {},
   "outputs": [
    {
     "data": {
      "text/plain": [
       "'trats'"
      ]
     },
     "execution_count": 5,
     "metadata": {},
     "output_type": "execute_result"
    }
   ],
   "source": [
    "b = 'start'\n",
    "b[::-1]"
   ]
  },
  {
   "cell_type": "code",
   "execution_count": null,
   "id": "8daccc48",
   "metadata": {},
   "outputs": [],
   "source": []
  }
 ],
 "metadata": {
  "kernelspec": {
   "display_name": "Python 3",
   "language": "python",
   "name": "python3"
  },
  "language_info": {
   "codemirror_mode": {
    "name": "ipython",
    "version": 3
   },
   "file_extension": ".py",
   "mimetype": "text/x-python",
   "name": "python",
   "nbconvert_exporter": "python",
   "pygments_lexer": "ipython3",
   "version": "3.8.8"
  }
 },
 "nbformat": 4,
 "nbformat_minor": 5
}
