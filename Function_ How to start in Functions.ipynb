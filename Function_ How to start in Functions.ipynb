{
 "cells": [
  {
   "cell_type": "markdown",
   "id": "559fea0c",
   "metadata": {},
   "source": [
    "## Learning Function"
   ]
  },
  {
   "cell_type": "code",
   "execution_count": 2,
   "id": "f49d6dcc",
   "metadata": {},
   "outputs": [
    {
     "name": "stdout",
     "output_type": "stream",
     "text": [
      "Hi There\n",
      "Welcome aboard\n"
     ]
    }
   ],
   "source": [
    "def greet():\n",
    "    print(\"Hi There\")\n",
    "    print(\"Welcome aboard\")\n",
    " \n",
    "\n",
    "greet()"
   ]
  },
  {
   "cell_type": "markdown",
   "id": "bf76d20e",
   "metadata": {},
   "source": [
    "- The greet is the name of the function, with no parameters inside parenteses ()\n",
    "- You can se a space before print this call intentation. This means the action of to print is inside the function greet\n",
    "- The different between print(\"Hi There\") and greet () is the print is taking an input and the greet () is not taking any input"
   ]
  },
  {
   "cell_type": "code",
   "execution_count": 4,
   "id": "e21b17a5",
   "metadata": {},
   "outputs": [
    {
     "name": "stdout",
     "output_type": "stream",
     "text": [
      "Hi There Mosh Hamedani\n",
      "Welcome aboard\n"
     ]
    }
   ],
   "source": [
    "# Lest add a Parameter and Arguments\n",
    "def greet(first_name, last_name): #we added a parameters first_name and last_name\n",
    "    print(\"Hi There\", first_name +\" \"+ last_name) #we want the first and last name be printed\n",
    "    print(\"Welcome aboard\")\n",
    " \n",
    " \n",
    "greet(\"Mosh\",\"Hamedani\") #We have to call our function using arguments that will represent the parameters"
   ]
  },
  {
   "cell_type": "markdown",
   "id": "5ed56260",
   "metadata": {},
   "source": [
    "## TYPES OF FUNCTIONS"
   ]
  },
  {
   "cell_type": "markdown",
   "id": "1a18445a",
   "metadata": {},
   "source": [
    "- We have two types of functions:\n",
    "    1. Perform a task\n",
    "    2. Do a calculation and Return a value"
   ]
  },
  {
   "cell_type": "code",
   "execution_count": 5,
   "id": "57a5af9d",
   "metadata": {},
   "outputs": [
    {
     "name": "stdout",
     "output_type": "stream",
     "text": [
      "Hi there\n"
     ]
    }
   ],
   "source": [
    "# This Function is to Perform a task\n",
    "def greet():\n",
    "    print(\"Hi there\")\n",
    "\n",
    "    \n",
    "greet()\n",
    "# This function is printing something in the terminal"
   ]
  },
  {
   "cell_type": "code",
   "execution_count": 78,
   "id": "1240eca4",
   "metadata": {},
   "outputs": [
    {
     "data": {
      "text/plain": [
       "'Hi Mosh'"
      ]
     },
     "execution_count": 78,
     "metadata": {},
     "output_type": "execute_result"
    }
   ],
   "source": [
    "# This Function is to Return a value\n",
    "def get_greet(name):\n",
    "    return f\"Hi {name}\"\n",
    "\n",
    "message = get_greet(\"Mosh\") #a place to allocate the value\n",
    "\n",
    "message"
   ]
  },
  {
   "cell_type": "markdown",
   "id": "66b59426",
   "metadata": {},
   "source": [
    "## Keywords argument"
   ]
  },
  {
   "cell_type": "code",
   "execution_count": 79,
   "id": "5effa807",
   "metadata": {},
   "outputs": [
    {
     "name": "stdout",
     "output_type": "stream",
     "text": [
      "3\n"
     ]
    }
   ],
   "source": [
    "def increment(number, by): # name of this function is increment with parameter number and by\n",
    "    return number + by #calculation will make\n",
    "\n",
    "result = increment(2,1) # the 2 is the argument of the parameter number. The 1 is the argument of the parameter by\n",
    "\n",
    "print(increment(2,1))"
   ]
  },
  {
   "cell_type": "markdown",
   "id": "2249cbe4",
   "metadata": {},
   "source": [
    "## Default Argument"
   ]
  },
  {
   "cell_type": "markdown",
   "id": "a54b6594",
   "metadata": {},
   "source": [
    "- I can add default arguments, if this value is together the parameter. In the example below the number 1 is the default, becauses telling us always this value 1 will always be there"
   ]
  },
  {
   "cell_type": "code",
   "execution_count": 31,
   "id": "f128ee5f",
   "metadata": {},
   "outputs": [
    {
     "name": "stdout",
     "output_type": "stream",
     "text": [
      "3\n",
      "7\n"
     ]
    }
   ],
   "source": [
    "def increment(numbers, by=1): #the require parameter is the by =1 and always will be the last one wrote\n",
    "    return numbers + by\n",
    "\n",
    "\n",
    "print(increment(2))\n",
    "print(increment(2,5))"
   ]
  },
  {
   "cell_type": "code",
   "execution_count": 24,
   "id": "ceed9a72",
   "metadata": {},
   "outputs": [
    {
     "name": "stdout",
     "output_type": "stream",
     "text": [
      "(2, 3, 4, 5)\n"
     ]
    }
   ],
   "source": [
    "def multiply(*numbers): #One star will give the hability to pass more than 2 arguments and the result is a Tuple\n",
    "    print(numbers)\n",
    "\n",
    "multiply(2,3,4,5)"
   ]
  },
  {
   "cell_type": "markdown",
   "id": "45ba7e92",
   "metadata": {},
   "source": [
    "- This results is a tuple because is inside the parentesis. Tuples can not be modified.\n",
    "- If is inside a square brakets it is a list"
   ]
  },
  {
   "cell_type": "code",
   "execution_count": 33,
   "id": "8fb2704f",
   "metadata": {},
   "outputs": [
    {
     "name": "stdout",
     "output_type": "stream",
     "text": [
      "2\n",
      "3\n",
      "4\n",
      "5\n"
     ]
    }
   ],
   "source": [
    "#We can use the tuples into loops\n",
    "def multiply(*numbers): #One star will give the hability to pass more than 2 arguments and the result will be tuple, but can be used in loops\n",
    "    for number in numbers:\n",
    "        print(number)\n",
    "\n",
    "        \n",
    "multiply(2,3,4,5)"
   ]
  },
  {
   "cell_type": "code",
   "execution_count": 40,
   "id": "412ca5b3",
   "metadata": {
    "scrolled": true
   },
   "outputs": [
    {
     "name": "stdout",
     "output_type": "stream",
     "text": [
      "120\n"
     ]
    }
   ],
   "source": [
    "# Now we can multiply the numbers\n",
    "def multiply(*numbers):\n",
    "    total = 1 #define the variable\n",
    "    for number in numbers:\n",
    "        total = total * number\n",
    "    return total\n",
    "\n",
    "\n",
    "print(multiply(2,3,4,5))"
   ]
  },
  {
   "cell_type": "markdown",
   "id": "782e7053",
   "metadata": {},
   "source": [
    "## Args and dictionary"
   ]
  },
  {
   "cell_type": "code",
   "execution_count": 42,
   "id": "e5061724",
   "metadata": {},
   "outputs": [
    {
     "name": "stdout",
     "output_type": "stream",
     "text": [
      "{'id': 1, 'name': 'John', 'age': 22}\n"
     ]
    }
   ],
   "source": [
    "def save_user(**user): #When using two stars in the parameter we can pass more than 1 argument later and can be default. Python will store as dictionary,\n",
    "    print(user)\n",
    "\n",
    "save_user(id = 1, name = \"John\", age = 22)"
   ]
  },
  {
   "cell_type": "markdown",
   "id": "6bf96232",
   "metadata": {},
   "source": [
    "- The results is a dictionary and show multiple values"
   ]
  },
  {
   "cell_type": "code",
   "execution_count": 46,
   "id": "809b0cc1",
   "metadata": {},
   "outputs": [
    {
     "name": "stdout",
     "output_type": "stream",
     "text": [
      "1\n"
     ]
    }
   ],
   "source": [
    "#Hpw to access the values inside the dictionary\n",
    "def save_user(**user): #When using two stars in the parameter we can pass more than 1 argument later and can be default. Python will store as dictionary,\n",
    "    print(user[\"id\"]) #accessing the values inside the function save_user\n",
    "\n",
    "save_user(id = 1, name = \"John\", age = 22)"
   ]
  },
  {
   "cell_type": "markdown",
   "id": "b61c1f8e",
   "metadata": {},
   "source": [
    "## Scope"
   ]
  },
  {
   "cell_type": "markdown",
   "id": "3e264f5f",
   "metadata": {},
   "source": [
    "- The scope is when the variable is defined"
   ]
  },
  {
   "cell_type": "code",
   "execution_count": 51,
   "id": "9628c651",
   "metadata": {},
   "outputs": [],
   "source": [
    "def greet():\n",
    "    message = \"a\"\n",
    " #The value message is in the scope of def greet, because this variable only exist inside the function greet()\n"
   ]
  },
  {
   "cell_type": "code",
   "execution_count": 52,
   "id": "176ecb69",
   "metadata": {},
   "outputs": [
    {
     "name": "stdout",
     "output_type": "stream",
     "text": [
      "a\n"
     ]
    }
   ],
   "source": [
    "message = \"a\"\n",
    "def greet (name):\n",
    "    message = \"b\"\n",
    "\n",
    "greet(\"Mosh\")\n",
    "print(message)"
   ]
  },
  {
   "cell_type": "markdown",
   "id": "22ccbd5d",
   "metadata": {},
   "source": [
    "- In this case, the value message is outside the function greet() and can be access by any function"
   ]
  },
  {
   "cell_type": "markdown",
   "id": "03818b34",
   "metadata": {},
   "source": [
    "## EXERCISE"
   ]
  },
  {
   "cell_type": "code",
   "execution_count": 76,
   "id": "ae38d2d5",
   "metadata": {},
   "outputs": [
    {
     "name": "stdout",
     "output_type": "stream",
     "text": [
      "Fizz Buzz\n"
     ]
    }
   ],
   "source": [
    "#Exercise: If input is divisible by 3 will print the word Fizz. If the input is divisible by 5 will print word Buzz. \n",
    "# If the input is divisible by 3 and 5 will print Fizz Buzz\n",
    "\n",
    "\n",
    "def fizz_buzz(input):\n",
    "    \n",
    "    if (input % 3 == 0) and (input % 5 == 0): #This condition need to meet first to pass to another one, because IF condition need meet if is TRUE\n",
    "        return \"Fizz Buzz\"\n",
    "    if input % 3 == 0: #If is TRUE will accept this condition, if is not TRUE will go to another line\n",
    "         return \"Fizz\"\n",
    "    if input % 5 == 0:\n",
    "         return \"Buzz\" #If is TRUE will accept this condition, if is not TRUE will go to another line\n",
    "   \n",
    "    return input\n",
    "\n",
    "print(fizz_buzz(15))"
   ]
  },
  {
   "cell_type": "code",
   "execution_count": null,
   "id": "846bc6ae",
   "metadata": {},
   "outputs": [],
   "source": []
  }
 ],
 "metadata": {
  "kernelspec": {
   "display_name": "Python 3",
   "language": "python",
   "name": "python3"
  },
  "language_info": {
   "codemirror_mode": {
    "name": "ipython",
    "version": 3
   },
   "file_extension": ".py",
   "mimetype": "text/x-python",
   "name": "python",
   "nbconvert_exporter": "python",
   "pygments_lexer": "ipython3",
   "version": "3.8.8"
  }
 },
 "nbformat": 4,
 "nbformat_minor": 5
}
